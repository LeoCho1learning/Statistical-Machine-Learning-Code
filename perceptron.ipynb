{
 "cells": [
  {
   "cell_type": "code",
   "execution_count": 1,
   "metadata": {},
   "outputs": [],
   "source": [
    "import numpy as np\n",
    "import time"
   ]
  },
  {
   "cell_type": "code",
   "execution_count": 2,
   "metadata": {},
   "outputs": [],
   "source": [
    "def loadData(fileName):\n",
    "    print('start to read data')\n",
    "    dataArr = []\n",
    "    labelArr = []\n",
    "    with open(fileName, 'r') as f:\n",
    "        for line in f.readlines():\n",
    "            data = line.strip().split(',')\n",
    "            if int(data[0]) >= 5:\n",
    "                labelArr.append(1)\n",
    "            else:\n",
    "                labelArr.append(0)\n",
    "            dataArr.append([int(num) / 255 for num in data[1:]])\n",
    "    return dataArr, labelArr"
   ]
  },
  {
   "cell_type": "code",
   "execution_count": 3,
   "metadata": {},
   "outputs": [],
   "source": [
    "def perceptron(dataArr, labelArr, iter = 50):\n",
    "    print('start to trans')\n",
    "    dataMat = np.mat(dataArr)\n",
    "    labelMat = np.mat(labelArr).T\n",
    "    m, n = np.shape(dataMat)\n",
    "    w = np.zeros((1, n))\n",
    "    b = 0\n",
    "    h = 0.001\n",
    "    for k in range(iter):\n",
    "        for i in range(m):\n",
    "            xi = dataMat[i]\n",
    "            yi = labelMat[i]\n",
    "            if -1 * yi * (w * xi.T + b) >= 0:\n",
    "                w = w + h * yi * xi\n",
    "                b = b + h * yi\n",
    "        print('Round %d:%d training' % (k, iter))\n",
    "    return w, b"
   ]
  },
  {
   "cell_type": "code",
   "execution_count": 4,
   "metadata": {},
   "outputs": [],
   "source": [
    "def test(dataArr, labelArr, w, b):\n",
    "    print('start to test')\n",
    "    dataMat = np.mat(dataArr)\n",
    "    labelMat =  np.mat(labelArr).T\n",
    "    m, n = np.shape(dataMat)\n",
    "    count = 0\n",
    "    for i in range(m):\n",
    "        yi = labelMat[i]\n",
    "        xi = dataMat[i]\n",
    "        result = -1 * yi * (w * xi.T + b)\n",
    "        if(result >= 0):\n",
    "            count += 1\n",
    "    accuracy = 1 - (count / m)\n",
    "    return accuracy"
   ]
  },
  {
   "cell_type": "code",
   "execution_count": 5,
   "metadata": {},
   "outputs": [
    {
     "name": "stdout",
     "output_type": "stream",
     "text": [
      "start to read data\n",
      "start to read data\n",
      "start to trans\n",
      "Round 0:30 training\n",
      "Round 1:30 training\n",
      "Round 2:30 training\n",
      "Round 3:30 training\n",
      "Round 4:30 training\n",
      "Round 5:30 training\n",
      "Round 6:30 training\n",
      "Round 7:30 training\n",
      "Round 8:30 training\n",
      "Round 9:30 training\n",
      "Round 10:30 training\n",
      "Round 11:30 training\n",
      "Round 12:30 training\n",
      "Round 13:30 training\n",
      "Round 14:30 training\n",
      "Round 15:30 training\n",
      "Round 16:30 training\n",
      "Round 17:30 training\n",
      "Round 18:30 training\n",
      "Round 19:30 training\n",
      "Round 20:30 training\n",
      "Round 21:30 training\n",
      "Round 22:30 training\n",
      "Round 23:30 training\n",
      "Round 24:30 training\n",
      "Round 25:30 training\n",
      "Round 26:30 training\n",
      "Round 27:30 training\n",
      "Round 28:30 training\n",
      "Round 29:30 training\n",
      "start to test\n"
     ]
    },
    {
     "data": {
      "text/plain": [
       "(0.4861, 50.245646238327026)"
      ]
     },
     "execution_count": 5,
     "metadata": {},
     "output_type": "execute_result"
    }
   ],
   "source": [
    "start = time.time()\n",
    "train_data, train_label = loadData('mnist_train.csv')\n",
    "test_data, test_label = loadData('mnist_test.csv')\n",
    "w, b = perceptron(train_data, train_label, 30)\n",
    "accuracy = test(test_data, test_label, w, b)\n",
    "end = time.time()\n",
    "timeCost = end - start\n",
    "accuracy, timeCost"
   ]
  }
 ],
 "metadata": {
  "kernelspec": {
   "display_name": "Python 3",
   "language": "python",
   "name": "python3"
  },
  "language_info": {
   "codemirror_mode": {
    "name": "ipython",
    "version": 3
   },
   "file_extension": ".py",
   "mimetype": "text/x-python",
   "name": "python",
   "nbconvert_exporter": "python",
   "pygments_lexer": "ipython3",
   "version": "3.6.8"
  }
 },
 "nbformat": 4,
 "nbformat_minor": 2
}
